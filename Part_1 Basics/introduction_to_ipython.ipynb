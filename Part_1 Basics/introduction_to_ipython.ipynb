{
 "cells": [
  {
   "cell_type": "markdown",
   "metadata": {},
   "source": [
    "# История языка Python\n",
    "История Python История языка Python начинается в 1980-х годах, когда Гвидо ван Россум, сотрудник центра математики и информатики в Нидерландах, приступил к созданию его первой версии. И до сих пор «Гвидо ван Россум» остается «великодушным пожизненным диктатором»\n",
    "\n",
    "К данному моменту были выпущены уже три версии языка — Python 1, Python 2, Python 3, причем первые две из них обратно совместимы, а Python 3 и Python 2 — уже нет. Это связано с тем, что те улучшения, которые были сделаны в Python 3, невозможно внести без нарушения обратной совместимости. Официально поддерживаются обе версии: Python 3 — это будущее языка, более современная версия, а Python 2 поддерживается до сих пор из-за огромного количества наработок, которые еще не были перенесены на более свежую версию.\n",
    "\n",
    " Следует особо отметить, что Python выпускается под свободной лицензией «Python Software Foundation License», разрешающей использовать исходный код проекта не только в открытом, но и в коммерческом программном обеспечении. Python работает почти на всех известных платформах. Существуют версии для MS Windows, Linux, Mac OS, FreeBSD и так далее.\n",
    " \n",
    "  Также привлекательной стороной Python является богатая стандартная библиотека. В нее входят, например, модуль для работы с текстом в различных кодировках и модуль для работы с регулярными выражениями. Кроме стандартной библиотеки, доступны: библиотека matplotlib для построения графиков функций, pandas — для работы с электронными таблицами и scipy — для научных и инженерных расчетов.\n",
    "  \n",
    "   Язык Python отличается лаконичным синтаксисом, поэтому на нем и читать чужой код, и писать свой очень просто. Разработчики языка придерживаются философии, называемой «The Zen of Python», текст которой на английском языке выводится интерпретатором по команде import this. Ниже представлена часть текста, переведенная на русский язык:\n",
    "\n",
    "- Красивое лучше, чем уродливое. \n",
    "- Простое лучше, чем сложное. \n",
    "- Читаемость имеет значение. \n",
    "- Ошибки никогда не должны замалчиваться. \n",
    "- Сейчас лучше, чем никогда. \n",
    "- Хотя никогда зачастую лучше, чем прямо сейчас. \n",
    "- Если реализацию сложно объяснить — идея плоха. \n",
    "- Если реализацию легко объяснить — идея, возможно, хороша.\n",
    "\n",
    "Python был выбран в качестве основного языка программирования для нашей специализации по многим причинам. Вот некоторые из них:\n",
    "\n",
    "- Python — свободное ПО. \n",
    "- Python доступен практически на всех платформах. \n",
    "- Python прост в изучении. \n",
    "- Python можно использовать в интерактивном режиме. \n",
    "- Python имеет большое сообщество пользователей и разработчиков. \n",
    "- Для Python доступно огромное число библиотек. При этом богатый набор функций имеется в стандартной библиотеке."
   ]
  },
  {
   "cell_type": "markdown",
   "metadata": {},
   "source": [
    "# Интерактивный режим python\n",
    "У разработчиков на python есть возможность использовать его в интерактивном режиме. Введенные с клавиатуры операторы сразу же выполняются и результат выводится на экран (в консоль) такой режим называется REPL (read-eval-print loop  или цикл чтения-вычисления-вывода).\n",
    "\n",
    "Вычисление в ячейках jupyter notebook  такое же, как и в REPL режиме. Все выражения вычисляются, а результат вывода последнего выражения в ячейке выводится после ячейки. Поэтому в jupyter notebook (ранее назывался ipython notebook) простейшая программа hello, world! выглядит проще, чем во всех остальных языках:"
   ]
  },
  {
   "cell_type": "code",
   "execution_count": 1,
   "metadata": {},
   "outputs": [
    {
     "data": {
      "text/plain": [
       "'hello, world!'"
      ]
     },
     "execution_count": 1,
     "metadata": {},
     "output_type": "execute_result"
    }
   ],
   "source": [
    "'hello, world!'"
   ]
  },
  {
   "cell_type": "markdown",
   "metadata": {},
   "source": [
    "Операция присваивание переменной позволяет сохранить результат выражения под названием. Имя переменной может состоять только из букв, цифр и знака подчёркивания; имя не может начинаться с цифры; имя не может содержать специальных символов @, $, %."
   ]
  },
  {
   "cell_type": "code",
   "execution_count": 2,
   "metadata": {},
   "outputs": [
    {
     "data": {
      "text/plain": [
       "'hello, world!'"
      ]
     },
     "execution_count": 2,
     "metadata": {},
     "output_type": "execute_result"
    }
   ],
   "source": [
    "t = 'hello, world!'\n",
    "t"
   ]
  },
  {
   "cell_type": "markdown",
   "metadata": {},
   "source": [
    "Для вывода также можно использовать базовую функцию print()"
   ]
  },
  {
   "cell_type": "code",
   "execution_count": 3,
   "metadata": {},
   "outputs": [
    {
     "name": "stdout",
     "output_type": "stream",
     "text": [
      "hello, world!\n"
     ]
    }
   ],
   "source": [
    "print(t)"
   ]
  },
  {
   "cell_type": "markdown",
   "metadata": {},
   "source": [
    "# Язык разметки Markdown\n",
    "В Jupyter Notebook есть два типа ячеек code cell и markdown cell. Code cell это ячейки с командами python или магическими командами (jupyter magick commands), о которых будет сказано далее. И ячейки с текстом, картинками и таблицами, написанными на языке markdown [краткое описание](https://github.com/sandino/Markdown-Cheatsheet#links) "
   ]
  },
  {
   "cell_type": "markdown",
   "metadata": {},
   "source": [
    "text"
   ]
  },
  {
   "cell_type": "markdown",
   "metadata": {},
   "source": [
    "# Header"
   ]
  },
  {
   "cell_type": "markdown",
   "metadata": {},
   "source": [
    "для редактирования формулы ниже использует синтаксис tex\n",
    "$$ c = \\sqrt{a^2 + b^2}$$\n"
   ]
  },
  {
   "cell_type": "markdown",
   "metadata": {},
   "source": [
    "# Built-in magick commands\n",
    "\n",
    "Магические команды позволяет запускать нативные команды через знак \"!\" "
   ]
  },
  {
   "cell_type": "code",
   "execution_count": 2,
   "metadata": {},
   "outputs": [
    {
     "name": "stdout",
     "output_type": "stream",
     "text": [
      "Active code page: 65001\n",
      "'hello, world!'\n",
      "\n",
      "Windows IP Configuration\n",
      "\n",
      "\n",
      "Unknown adapter ������祭�� �� �����쭮� ��:\n",
      "\n",
      "   Media State . . . . . . . . . . . : Media disconnected\n",
      "   Connection-specific DNS Suffix  . : \n",
      "\n",
      "Ethernet adapter Ethernet:\n",
      "\n",
      "   Connection-specific DNS Suffix  . : lan.lanit.ru\n",
      "   IPv4 Address. . . . . . . . . . . : 172.30.122.149\n",
      "   Subnet Mask . . . . . . . . . . . : 255.255.255.0\n",
      "   Default Gateway . . . . . . . . . : 172.30.122.1\n",
      "\n",
      "Wireless LAN adapter ������祭�� �� �����쭮� ��* 1:\n",
      "\n",
      "   Media State . . . . . . . . . . . : Media disconnected\n",
      "   Connection-specific DNS Suffix  . : \n",
      "\n",
      "Wireless LAN adapter ������祭�� �� �����쭮� ��* 10:\n",
      "\n",
      "   Media State . . . . . . . . . . . : Media disconnected\n",
      "   Connection-specific DNS Suffix  . : \n",
      "\n",
      "Ethernet adapter VMware Network Adapter VMnet1:\n",
      "\n",
      "   Connection-specific DNS Suffix  . : \n",
      "   IPv4 Address. . . . . . . . . . . : 192.168.198.1\n",
      "   Subnet Mask . . . . . . . . . . . : 255.255.255.0\n",
      "   Default Gateway . . . . . . . . . : \n",
      "\n",
      "Ethernet adapter VMware Network Adapter VMnet8:\n",
      "\n",
      "   Connection-specific DNS Suffix  . : \n",
      "   IPv4 Address. . . . . . . . . . . : 192.168.227.1\n",
      "   Subnet Mask . . . . . . . . . . . : 255.255.255.0\n",
      "   Default Gateway . . . . . . . . . : \n",
      "\n",
      "Wireless LAN adapter ���஢����� ���:\n",
      "\n",
      "   Media State . . . . . . . . . . . : Media disconnected\n",
      "   Connection-specific DNS Suffix  . : lan.lanit.ru\n",
      "\n",
      "Ethernet adapter ��⥢�� ������祭�� Bluetooth:\n",
      "\n",
      "   Media State . . . . . . . . . . . : Media disconnected\n",
      "   Connection-specific DNS Suffix  . : \n"
     ]
    }
   ],
   "source": [
    "! chcp 65001\n",
    "! echo 'hello, world!'\n",
    "! ipconfig"
   ]
  },
  {
   "cell_type": "markdown",
   "metadata": {},
   "source": [
    "Можно также выводить переменные, которые управляются интерпретатором с помощью предстоящего знака \"$\""
   ]
  },
  {
   "cell_type": "code",
   "execution_count": 5,
   "metadata": {},
   "outputs": [
    {
     "name": "stdout",
     "output_type": "stream",
     "text": [
      "hello, world!\n"
     ]
    }
   ],
   "source": [
    "!echo $t"
   ]
  },
  {
   "cell_type": "markdown",
   "metadata": {},
   "source": [
    "Для запуска нескольких команд в коммандной строке используется \"%%cmd\":"
   ]
  },
  {
   "cell_type": "code",
   "execution_count": 3,
   "metadata": {},
   "outputs": [
    {
     "name": "stdout",
     "output_type": "stream",
     "text": [
      "Microsoft Windows [Version 10.0.19044.1645]\n",
      "(c) Корпорация Майкрософт (Microsoft Corporation). Все права защищены.\n",
      "\n",
      "d:\\Work\\Work_Summer_2022\\python_course\\MTZ course\\Part_1 Basics>mkdir test_directory\n",
      "\n",
      "d:\\Work\\Work_Summer_2022\\python_course\\MTZ course\\Part_1 Basics>cd test_directory\n",
      "\n",
      "d:\\Work\\Work_Summer_2022\\python_course\\MTZ course\\Part_1 Basics\\test_directory>dir\n",
      " Volume in drive D is DATA\n",
      " Volume Serial Number is 0234-7446\n",
      "\n",
      " Directory of d:\\Work\\Work_Summer_2022\\python_course\\MTZ course\\Part_1 Basics\\test_directory\n",
      "\n",
      "09/16/2022  09:23 AM    <DIR>          .\n",
      "09/16/2022  09:23 AM    <DIR>          ..\n",
      "               0 File(s)              0 bytes\n",
      "               2 Dir(s)  102,281,273,344 bytes free\n",
      "\n",
      "d:\\Work\\Work_Summer_2022\\python_course\\MTZ course\\Part_1 Basics\\test_directory>"
     ]
    }
   ],
   "source": [
    "%%cmd\n",
    "mkdir test_directory\n",
    "cd test_directory\n",
    "dir"
   ]
  },
  {
   "cell_type": "markdown",
   "metadata": {},
   "source": [
    "удаление директории, если она не нужна (windows)"
   ]
  },
  {
   "cell_type": "code",
   "execution_count": 4,
   "metadata": {},
   "outputs": [
    {
     "name": "stdout",
     "output_type": "stream",
     "text": [
      "Microsoft Windows [Version 10.0.19044.1645]\n",
      "(c) Корпорация Майкрософт (Microsoft Corporation). Все права защищены.\n",
      "\n",
      "d:\\Work\\Work_Summer_2022\\python_course\\MTZ course\\Part_1 Basics>rmdir test_directory\n",
      "\n",
      "d:\\Work\\Work_Summer_2022\\python_course\\MTZ course\\Part_1 Basics>"
     ]
    }
   ],
   "source": [
    "%%cmd\n",
    "rmdir test_directory"
   ]
  },
  {
   "cell_type": "markdown",
   "metadata": {},
   "source": [
    "Список всех имеющихся магических команд"
   ]
  },
  {
   "cell_type": "code",
   "execution_count": 8,
   "metadata": {},
   "outputs": [
    {
     "data": {
      "application/json": {
       "cell": {
        "!": "OSMagics",
        "HTML": "Other",
        "SVG": "Other",
        "bash": "Other",
        "capture": "ExecutionMagics",
        "cmd": "Other",
        "debug": "ExecutionMagics",
        "file": "Other",
        "html": "DisplayMagics",
        "javascript": "DisplayMagics",
        "js": "DisplayMagics",
        "latex": "DisplayMagics",
        "markdown": "DisplayMagics",
        "perl": "Other",
        "prun": "ExecutionMagics",
        "pypy": "Other",
        "python": "Other",
        "python2": "Other",
        "python3": "Other",
        "ruby": "Other",
        "script": "ScriptMagics",
        "sh": "Other",
        "svg": "DisplayMagics",
        "sx": "OSMagics",
        "system": "OSMagics",
        "time": "ExecutionMagics",
        "timeit": "ExecutionMagics",
        "writefile": "OSMagics"
       },
       "line": {
        "alias": "OSMagics",
        "alias_magic": "BasicMagics",
        "autoawait": "AsyncMagics",
        "autocall": "AutoMagics",
        "automagic": "AutoMagics",
        "bookmark": "OSMagics",
        "cd": "OSMagics",
        "colors": "BasicMagics",
        "conda": "PackagingMagics",
        "config": "ConfigMagics",
        "copy": "Other",
        "ddir": "Other",
        "debug": "ExecutionMagics",
        "dhist": "OSMagics",
        "dirs": "OSMagics",
        "doctest_mode": "BasicMagics",
        "echo": "Other",
        "ed": "Other",
        "edit": "CodeMagics",
        "env": "OSMagics",
        "gui": "BasicMagics",
        "hist": "Other",
        "history": "HistoryMagics",
        "killbgscripts": "ScriptMagics",
        "ldir": "Other",
        "load": "CodeMagics",
        "load_ext": "ExtensionMagics",
        "loadpy": "CodeMagics",
        "logoff": "LoggingMagics",
        "logon": "LoggingMagics",
        "logstart": "LoggingMagics",
        "logstate": "LoggingMagics",
        "logstop": "LoggingMagics",
        "ls": "Other",
        "lsmagic": "BasicMagics",
        "macro": "ExecutionMagics",
        "magic": "BasicMagics",
        "matplotlib": "PylabMagics",
        "mkdir": "Other",
        "notebook": "BasicMagics",
        "page": "BasicMagics",
        "pastebin": "CodeMagics",
        "pdb": "ExecutionMagics",
        "pdef": "NamespaceMagics",
        "pdoc": "NamespaceMagics",
        "pfile": "NamespaceMagics",
        "pinfo": "NamespaceMagics",
        "pinfo2": "NamespaceMagics",
        "pip": "PackagingMagics",
        "popd": "OSMagics",
        "pprint": "BasicMagics",
        "precision": "BasicMagics",
        "prun": "ExecutionMagics",
        "psearch": "NamespaceMagics",
        "psource": "NamespaceMagics",
        "pushd": "OSMagics",
        "pwd": "OSMagics",
        "pycat": "OSMagics",
        "pylab": "PylabMagics",
        "quickref": "BasicMagics",
        "recall": "HistoryMagics",
        "rehashx": "OSMagics",
        "reload_ext": "ExtensionMagics",
        "ren": "Other",
        "rep": "Other",
        "rerun": "HistoryMagics",
        "reset": "NamespaceMagics",
        "reset_selective": "NamespaceMagics",
        "rmdir": "Other",
        "run": "ExecutionMagics",
        "save": "CodeMagics",
        "sc": "OSMagics",
        "set_env": "OSMagics",
        "store": "StoreMagics",
        "sx": "OSMagics",
        "system": "OSMagics",
        "tb": "ExecutionMagics",
        "time": "ExecutionMagics",
        "timeit": "ExecutionMagics",
        "unalias": "OSMagics",
        "unload_ext": "ExtensionMagics",
        "who": "NamespaceMagics",
        "who_ls": "NamespaceMagics",
        "whos": "NamespaceMagics",
        "xdel": "NamespaceMagics",
        "xmode": "BasicMagics"
       }
      },
      "text/plain": [
       "Available line magics:\n",
       "%alias  %alias_magic  %autoawait  %autocall  %automagic  %bookmark  %cd  %colors  %conda  %config  %copy  %ddir  %debug  %dhist  %dirs  %doctest_mode  %echo  %ed  %edit  %env  %gui  %hist  %history  %killbgscripts  %ldir  %load  %load_ext  %loadpy  %logoff  %logon  %logstart  %logstate  %logstop  %ls  %lsmagic  %macro  %magic  %matplotlib  %mkdir  %notebook  %page  %pastebin  %pdb  %pdef  %pdoc  %pfile  %pinfo  %pinfo2  %pip  %popd  %pprint  %precision  %prun  %psearch  %psource  %pushd  %pwd  %pycat  %pylab  %quickref  %recall  %rehashx  %reload_ext  %ren  %rep  %rerun  %reset  %reset_selective  %rmdir  %run  %save  %sc  %set_env  %store  %sx  %system  %tb  %time  %timeit  %unalias  %unload_ext  %who  %who_ls  %whos  %xdel  %xmode\n",
       "\n",
       "Available cell magics:\n",
       "%%!  %%HTML  %%SVG  %%bash  %%capture  %%cmd  %%debug  %%file  %%html  %%javascript  %%js  %%latex  %%markdown  %%perl  %%prun  %%pypy  %%python  %%python2  %%python3  %%ruby  %%script  %%sh  %%svg  %%sx  %%system  %%time  %%timeit  %%writefile\n",
       "\n",
       "Automagic is ON, % prefix IS NOT needed for line magics."
      ]
     },
     "execution_count": 8,
     "metadata": {},
     "output_type": "execute_result"
    }
   ],
   "source": [
    "%lsmagic"
   ]
  },
  {
   "cell_type": "markdown",
   "metadata": {
    "tags": []
   },
   "source": [
    "Частое применение, это установка каких-либо дополнительных пакетов, прямо из jupyter notebook"
   ]
  },
  {
   "cell_type": "code",
   "execution_count": 1,
   "metadata": {},
   "outputs": [
    {
     "name": "stdout",
     "output_type": "stream",
     "text": [
      "Collecting some_package\n",
      "  Using cached some_package-0.1-py3-none-any.whl\n",
      "Installing collected packages: some_package\n",
      "Successfully installed some_package-0.1\n",
      "Found existing installation: some-package 0.1\n",
      "Uninstalling some-package-0.1:\n",
      "  Successfully uninstalled some-package-0.1\n"
     ]
    }
   ],
   "source": [
    "!pip install some_package\n",
    "!pip uninstall some_package --yes"
   ]
  },
  {
   "cell_type": "markdown",
   "metadata": {},
   "source": [
    "Дополнительно о полезных магических коммандах [здесь](https://nuancesprog.ru/p/8099/)"
   ]
  },
  {
   "cell_type": "markdown",
   "metadata": {},
   "source": [
    "# Переменные, выражения и ключевые слова\n",
    "## Типы данных\n",
    "\n",
    "Есть следующие базовые типы данных в Python:\n",
    "- Numbers (числа)\n",
    "- Strings (строки)\n",
    "- Lists (списки)\n",
    "- Dictionaries (словари)\n",
    "- Tuples (кортежи)\n",
    "- Sets (множества)\n",
    "- Boolean (логический тип данных)\n",
    "\n",
    "для того, чтобы проверить тип данных используется функция \"type\"\n"
   ]
  },
  {
   "cell_type": "code",
   "execution_count": 6,
   "metadata": {},
   "outputs": [
    {
     "data": {
      "text/plain": [
       "str"
      ]
     },
     "execution_count": 6,
     "metadata": {},
     "output_type": "execute_result"
    }
   ],
   "source": [
    "type(\"Hello, world!\")"
   ]
  },
  {
   "cell_type": "code",
   "execution_count": 8,
   "metadata": {},
   "outputs": [
    {
     "data": {
      "text/plain": [
       "int"
      ]
     },
     "execution_count": 8,
     "metadata": {},
     "output_type": "execute_result"
    }
   ],
   "source": [
    "type(42)"
   ]
  },
  {
   "cell_type": "code",
   "execution_count": 9,
   "metadata": {},
   "outputs": [
    {
     "data": {
      "text/plain": [
       "float"
      ]
     },
     "execution_count": 9,
     "metadata": {},
     "output_type": "execute_result"
    }
   ],
   "source": [
    "type(42.2)"
   ]
  },
  {
   "cell_type": "code",
   "execution_count": 10,
   "metadata": {},
   "outputs": [
    {
     "name": "stdout",
     "output_type": "stream",
     "text": [
      "<class 'str'>\n",
      "<class 'str'>\n"
     ]
    }
   ],
   "source": [
    "print(type('42'))\n",
    "print(type('42.2'))"
   ]
  },
  {
   "cell_type": "markdown",
   "metadata": {},
   "source": [
    "## Ключевые слова\n",
    "\n",
    "Ключевые слова, это зарезервированные слова, которые используются \n",
    "для обозначения различных манипуляций. Их нельзя использовать для названия переменных, функций или классов.\n",
    "\n"
   ]
  },
  {
   "cell_type": "code",
   "execution_count": 21,
   "metadata": {},
   "outputs": [
    {
     "name": "stdout",
     "output_type": "stream",
     "text": [
      "\n",
      "Here is a list of the Python keywords.  Enter any keyword to get more help.\n",
      "\n",
      "False               break               for                 not\n",
      "None                class               from                or\n",
      "True                continue            global              pass\n",
      "__peg_parser__      def                 if                  raise\n",
      "and                 del                 import              return\n",
      "as                  elif                in                  try\n",
      "assert              else                is                  while\n",
      "async               except              lambda              with\n",
      "await               finally             nonlocal            yield\n",
      "\n"
     ]
    }
   ],
   "source": [
    "help('keywords')"
   ]
  },
  {
   "cell_type": "markdown",
   "metadata": {},
   "source": [
    "## Операторы\n",
    "\n",
    "Кроме обычных операций сложения, вычитания, умножения и деления, надо еще знать операции возведения в степень (**), деление без остатка(//), и нахождение остатка от деления (%)"
   ]
  },
  {
   "cell_type": "code",
   "execution_count": 30,
   "metadata": {},
   "outputs": [
    {
     "name": "stdout",
     "output_type": "stream",
     "text": [
      "27\n",
      "8\n",
      "3\n"
     ]
    }
   ],
   "source": [
    "print(3**3)\n",
    "print(83//10)\n",
    "print(83%10)"
   ]
  },
  {
   "cell_type": "markdown",
   "metadata": {},
   "source": [
    "Кроме того, каждый из этих операторов можно совместить с оператором присваивания, и тогда сначала проведется операция, и затем присвоится значение переменной"
   ]
  },
  {
   "cell_type": "code",
   "execution_count": 33,
   "metadata": {},
   "outputs": [
    {
     "name": "stdout",
     "output_type": "stream",
     "text": [
      "4\n",
      "2\n",
      "8\n",
      "4.0\n",
      "256.0\n",
      "25.0\n"
     ]
    }
   ],
   "source": [
    "x=2\n",
    "x+=2\n",
    "print(x)\n",
    "x-=2\n",
    "print(x)\n",
    "x*=4\n",
    "print(x)\n",
    "x/=2\n",
    "print(x)\n",
    "x**=4\n",
    "print(x)\n",
    "x//=10\n",
    "print(x)"
   ]
  },
  {
   "cell_type": "markdown",
   "metadata": {},
   "source": [
    "Кроме того, важно помнить о порядке операций, для его запоминания лучше всего использовать мнемоническое словао PEMDAS ( Parentheses, Exponents, Multiplication/Division, Addition/Subtraction)"
   ]
  },
  {
   "cell_type": "markdown",
   "metadata": {},
   "source": [
    "## Выражения\n",
    "\n",
    "Выражения, это комбинация из переменных, значений и операторов.\n",
    "Примеры:"
   ]
  },
  {
   "cell_type": "code",
   "execution_count": 34,
   "metadata": {},
   "outputs": [
    {
     "data": {
      "text/plain": [
       "15"
      ]
     },
     "execution_count": 34,
     "metadata": {},
     "output_type": "execute_result"
    }
   ],
   "source": [
    "17\n",
    "x=5\n",
    "y=x+5\n",
    "x+y #Все примеры выражений"
   ]
  },
  {
   "cell_type": "markdown",
   "metadata": {},
   "source": [
    "# Условные выражения\n",
    "\n",
    "## Булевы выражения\n",
    "\n",
    "Булевы выражения в результате могут быть либо в состоянии \"True\" или \"False\".\n",
    "Операторы булевой переменной:  \n",
    "\n",
    "x == y -- x равен y  \n",
    "x != y -- x не равен y  \n",
    "x > y -- x больше y  \n",
    "x < y -- x меньше y  \n",
    "x >= y -- x больше или равно y  \n",
    "x <= y -- x меньше или равно y  \n",
    "x is y -- x одно и тоже что и y  \n",
    "x is not y -- x не одно и то же что же y"
   ]
  },
  {
   "cell_type": "code",
   "execution_count": 36,
   "metadata": {},
   "outputs": [
    {
     "name": "stdout",
     "output_type": "stream",
     "text": [
      "False\n",
      "True\n",
      "False\n",
      "True\n"
     ]
    }
   ],
   "source": [
    "x=2;y=5\n",
    "print(x==y)\n",
    "print(x!=y)\n",
    "print(x>y)\n",
    "print(x<y)"
   ]
  },
  {
   "cell_type": "markdown",
   "metadata": {},
   "source": [
    "## Логические операторы\n",
    "Существуют три логических оператора and, or, и not.Cравним их действие на следующих выражениях:"
   ]
  },
  {
   "cell_type": "code",
   "execution_count": 48,
   "metadata": {},
   "outputs": [
    {
     "name": "stdout",
     "output_type": "stream",
     "text": [
      "True\n",
      "False\n",
      "True\n"
     ]
    }
   ],
   "source": [
    "x=5\n",
    "print(x > 0 and x < 10)\n",
    "x=10\n",
    "print(x > 0 and x < 10)\n",
    "print(x>0 or x<10)\n"
   ]
  },
  {
   "cell_type": "markdown",
   "metadata": {},
   "source": [
    "## Условные выражения\n",
    "\n",
    "Чтобы управлять потоком вычисления, используются служебные слова if, else, elif (else if). Для создания условного выражения используется следующий шаблон:\n",
    "```python\n",
    "if <Булево выражение>: #Обратите внимание на обязательный символ \":\"\n",
    "    <Блок кода> # Обратите внимание на отступ\n",
    "elif <Булево выражение>:#Другое булево выражение\n",
    "    <Блок кода>\n",
    "------//--------- # количество блоков elif неограничено\n",
    "else:\n",
    "    <Блок кода> #else в условном выражении может быть только один\n",
    "```\n",
    "\n",
    "Отступы в python служат для отделения вложенных блоков кода от основных, то есть как аналоги служебных слов begin .. end  в pascal-подобных языках или фигурных скобок {} в си-подобных языках. Надо следить за тем, каким образом получен этот отступ, некоторые пользуются клавишей tab, которое дает смещение около 4 space. Надо понимать, что python делает различие между символом tab и несколькими символами space. Смешивать их в одном вложенном блоке кода нельзя!\n",
    "Примеры условных выражений:"
   ]
  },
  {
   "cell_type": "code",
   "execution_count": 49,
   "metadata": {},
   "outputs": [
    {
     "name": "stdout",
     "output_type": "stream",
     "text": [
      "x is positive\n"
     ]
    }
   ],
   "source": [
    "x=5\n",
    "if x > 0 : \n",
    "    print('x is positive')"
   ]
  },
  {
   "cell_type": "code",
   "execution_count": 125,
   "metadata": {},
   "outputs": [],
   "source": [
    "if x < 0 : \n",
    "    pass # Служебное слово pass, используется как заполнитель в тех случаях, \n",
    "         # когда действие для условного выражения или функции не определено,\n",
    "         # Пустым блок кода после двоеточия оставлять нельзя\n",
    "         # Обычно здесь оставляют пометку в комментариях, что надо обработать такой случай\n",
    "         # TODO: Придумать что делать, если x отрицательный "
   ]
  },
  {
   "cell_type": "code",
   "execution_count": 126,
   "metadata": {},
   "outputs": [
    {
     "name": "stdout",
     "output_type": "stream",
     "text": [
      "x нечетное\n"
     ]
    }
   ],
   "source": [
    "if x%2 == 0 :\n",
    "    print('x четное')\n",
    "else:\n",
    "    print('x нечетное')"
   ]
  },
  {
   "cell_type": "code",
   "execution_count": 127,
   "metadata": {},
   "outputs": [
    {
     "name": "stdout",
     "output_type": "stream",
     "text": [
      "они равны\n"
     ]
    }
   ],
   "source": [
    "if x < y:\n",
    "     print('x меньше y')\n",
    "elif x > y:\n",
    "     print('x больше y')\n",
    "else:\n",
    "    print('они равны')"
   ]
  },
  {
   "cell_type": "code",
   "execution_count": 50,
   "metadata": {},
   "outputs": [
    {
     "name": "stdout",
     "output_type": "stream",
     "text": [
      "x меньше y\n"
     ]
    }
   ],
   "source": [
    "x=4\n",
    "if x == y:\n",
    "     print('они равны')\n",
    "else:\n",
    "     if x < y:\n",
    "        print('x меньше y')\n",
    "     else:\n",
    "        print('x больше y')"
   ]
  },
  {
   "cell_type": "markdown",
   "metadata": {},
   "source": [
    "# Функции\n",
    "\n",
    "В программировании функция, это именованная последовательность выражений, которые производят действия над входными \n",
    "данными. Сначала вы определяете функцию, а затем уже проводите \"вызов\" функции.\n",
    "\n",
    "Пример:"
   ]
  },
  {
   "cell_type": "code",
   "execution_count": 129,
   "metadata": {},
   "outputs": [
    {
     "data": {
      "text/plain": [
       "int"
      ]
     },
     "execution_count": 129,
     "metadata": {},
     "output_type": "execute_result"
    }
   ],
   "source": [
    "type(42)"
   ]
  },
  {
   "cell_type": "markdown",
   "metadata": {},
   "source": [
    "Вызов функции проводится с помощью написания имени функции и использования оператора вызова функции \"()\". Функции могут иметь входные аргументы, а могут вызываться и без аргументов.\n",
    "\n",
    "Пример, функция random, которая создает псевдослучайное число от 0 до 1:"
   ]
  },
  {
   "cell_type": "code",
   "execution_count": 130,
   "metadata": {},
   "outputs": [
    {
     "data": {
      "text/plain": [
       "0.2187629366815934"
      ]
     },
     "execution_count": 130,
     "metadata": {},
     "output_type": "execute_result"
    }
   ],
   "source": [
    "from random import random\n",
    "random()"
   ]
  },
  {
   "cell_type": "markdown",
   "metadata": {},
   "source": [
    "Для добавления функции используется ключевое слово def."
   ]
  },
  {
   "cell_type": "code",
   "execution_count": 131,
   "metadata": {},
   "outputs": [],
   "source": [
    "def print_hello():\n",
    "    print('Hello!')"
   ]
  },
  {
   "cell_type": "code",
   "execution_count": 132,
   "metadata": {},
   "outputs": [
    {
     "name": "stdout",
     "output_type": "stream",
     "text": [
      "Hello!\n"
     ]
    }
   ],
   "source": [
    "print_hello()"
   ]
  },
  {
   "cell_type": "markdown",
   "metadata": {},
   "source": [
    "Определяя функцию вы создаете переменную с таким же именем"
   ]
  },
  {
   "cell_type": "code",
   "execution_count": 133,
   "metadata": {},
   "outputs": [
    {
     "name": "stdout",
     "output_type": "stream",
     "text": [
      "<function print_hello at 0x000001E68A25A9D0>\n",
      "<class 'function'>\n"
     ]
    }
   ],
   "source": [
    "print(print_hello)\n",
    "print(type(print_hello))"
   ]
  },
  {
   "cell_type": "markdown",
   "metadata": {},
   "source": [
    "Определив функцию, вы можете затем использовать ее внутри другой функции:"
   ]
  },
  {
   "cell_type": "code",
   "execution_count": 134,
   "metadata": {},
   "outputs": [
    {
     "name": "stdout",
     "output_type": "stream",
     "text": [
      "Hello!\n",
      "Hello!\n"
     ]
    }
   ],
   "source": [
    "def repeat_hello():\n",
    "    print_hello()\n",
    "    print_hello()\n",
    "\n",
    "repeat_hello()"
   ]
  },
  {
   "cell_type": "markdown",
   "metadata": {},
   "source": [
    "## Аргументы\n",
    "Функция может принимать один, два и более аргументов. Количество аргументов не ограничено"
   ]
  },
  {
   "cell_type": "code",
   "execution_count": 135,
   "metadata": {},
   "outputs": [
    {
     "name": "stdout",
     "output_type": "stream",
     "text": [
      "Привет, Андрей\n"
     ]
    }
   ],
   "source": [
    "def hello_name(name):\n",
    "    print('Привет,', name)\n",
    "\n",
    "hello_name('Андрей')"
   ]
  },
  {
   "cell_type": "markdown",
   "metadata": {},
   "source": [
    "Для аргумента можно установить значение по умолчанию, что позволяет задавать не все аргументы при вызове функции. Кроме того при вызове можно использовать выражение:\n",
    "```python\n",
    "function_name(arg1=value1,arg2=value2,...)\n",
    "```\n",
    "которое позволяет сменить порядок аргументов при вызове функции. Это называется именованные аргументы."
   ]
  },
  {
   "cell_type": "code",
   "execution_count": 136,
   "metadata": {},
   "outputs": [
    {
     "name": "stdout",
     "output_type": "stream",
     "text": [
      "Здравствуйте, Иван Иванов\n",
      "Здравствуйте, Петр Иванов\n",
      "Здравствуйте, Иван Иванов\n",
      "Здравствуйте, Иван Иванов\n"
     ]
    }
   ],
   "source": [
    "def hello_person(name='Иван', surname='Иванов'):\n",
    "    print('Здравствуйте,', name,surname)\n",
    "hello_person()\n",
    "hello_person(name='Петр')\n",
    "hello_person(name = 'Иван', surname = \"Иванов\")\n",
    "hello_person(surname='Иванов',name='Иван')\n"
   ]
  },
  {
   "cell_type": "markdown",
   "metadata": {},
   "source": [
    "Внимание! После использования именованного аргумента можно использовать только именованные аргументы, а не порядковые аргументы:"
   ]
  },
  {
   "cell_type": "code",
   "execution_count": 137,
   "metadata": {},
   "outputs": [],
   "source": [
    "# hello_person(name='Иван','Иванов')"
   ]
  },
  {
   "cell_type": "markdown",
   "metadata": {},
   "source": [
    "При вызове функции тип переменной не проверяется, как происходит в строго типизированных языках программирования. Поэтому python позволяет использование различных типов для одного и того же аргумента в функции. Релизация таких проверок, если они необходимы, оставлены на разработчика, это особенность динамически типизированных языков:"
   ]
  },
  {
   "cell_type": "code",
   "execution_count": 138,
   "metadata": {},
   "outputs": [
    {
     "name": "stdout",
     "output_type": "stream",
     "text": [
      "Здравствуйте, 11 13\n",
      "Здравствуйте, True False\n"
     ]
    }
   ],
   "source": [
    "hello_person(11,13)\n",
    "hello_person(True,False)"
   ]
  },
  {
   "cell_type": "markdown",
   "metadata": {},
   "source": [
    "## Возвращаемый результат\n",
    "\n",
    "Функция в python может не только принимать и изменять данные, а также возвращать данные после выполнения. Для этого используется ключевое слово return"
   ]
  },
  {
   "cell_type": "code",
   "execution_count": 139,
   "metadata": {},
   "outputs": [
    {
     "name": "stdout",
     "output_type": "stream",
     "text": [
      "4\n",
      "4\n"
     ]
    }
   ],
   "source": [
    "def sum_of_two(a,b):\n",
    "    added = a+b\n",
    "    return added\n",
    "\n",
    "def sum_of_two_var2(a,b):\n",
    "    return a+b\n",
    "\n",
    "print(sum_of_two(2,2))\n",
    "print(sum_of_two_var2(2,2))\n"
   ]
  },
  {
   "cell_type": "markdown",
   "metadata": {},
   "source": [
    "Добавление слова return завершает функцию, поэтому дальнейшее выполнение функции прекращается. Легче всего проилюстрировать такое поведение на функции с условными операторами:"
   ]
  },
  {
   "cell_type": "code",
   "execution_count": 140,
   "metadata": {},
   "outputs": [
    {
     "name": "stdout",
     "output_type": "stream",
     "text": [
      "True\n",
      "Значение меньше 5\n",
      "False\n"
     ]
    }
   ],
   "source": [
    "def bigger5(input_number):\n",
    "    if input_number>5:\n",
    "        return True\n",
    "    print('Значение меньше 5')\n",
    "    return False\n",
    "\n",
    "print(bigger5(7))\n",
    "print(bigger5(3))"
   ]
  },
  {
   "cell_type": "markdown",
   "metadata": {},
   "source": [
    "После слова return может идти не одна, а несколько значений, разделенных запятой. В таких случаях результатом решения является кортеж, о которых будет пояснено далее:"
   ]
  },
  {
   "cell_type": "code",
   "execution_count": 141,
   "metadata": {},
   "outputs": [
    {
     "name": "stdout",
     "output_type": "stream",
     "text": [
      "8\n",
      "2\n"
     ]
    },
    {
     "data": {
      "text/plain": [
       "(8, 2)"
      ]
     },
     "execution_count": 141,
     "metadata": {},
     "output_type": "execute_result"
    }
   ],
   "source": [
    "def plusminus(a,b):\n",
    "    return a+b,a-b\n",
    "\n",
    "plus_result,minus_result = plusminus(5,3)\n",
    "print(plus_result)\n",
    "print(minus_result)\n",
    "\n",
    "plusminus(5,3)"
   ]
  },
  {
   "cell_type": "markdown",
   "metadata": {},
   "source": [
    "кроме того, return можно использовать без возвращаемых значений, для того, чтобы заранее завершить выполнение функции:"
   ]
  },
  {
   "cell_type": "code",
   "execution_count": 142,
   "metadata": {},
   "outputs": [
    {
     "name": "stdout",
     "output_type": "stream",
     "text": [
      "12\n"
     ]
    }
   ],
   "source": [
    "def print_add_two(a,b):\n",
    "    if not isinstance(a,(int,float)) or not isinstance(b,(int,float)):\n",
    "        return\n",
    "    print(a+b)\n",
    "\n",
    "print_add_two('1',5)\n",
    "print_add_two(7,5)"
   ]
  },
  {
   "cell_type": "markdown",
   "metadata": {},
   "source": [
    "# Циклы\n",
    "\n",
    "## Цикл while\n",
    "\n",
    "Цикл while выполняет тело цикла (то есть все, что находится под одним уровнем отступа под циклом). Цикл выполняется пока условие истинно, или равно True. В примере показан цикл для обратного отсчета:"
   ]
  },
  {
   "cell_type": "code",
   "execution_count": 51,
   "metadata": {
    "tags": []
   },
   "outputs": [
    {
     "name": "stdout",
     "output_type": "stream",
     "text": [
      "3\n",
      "2\n",
      "1\n",
      "Бабах!\n"
     ]
    }
   ],
   "source": [
    "import time\n",
    "n=3\n",
    "while n>0:\n",
    "    print(n)\n",
    "    n-=1\n",
    "    time.sleep(1)\n",
    "print('Бабах!')\n"
   ]
  },
  {
   "cell_type": "markdown",
   "metadata": {},
   "source": [
    "С помощью цикла while можно сделать бесконечный цикл:"
   ]
  },
  {
   "cell_type": "code",
   "execution_count": 144,
   "metadata": {
    "tags": []
   },
   "outputs": [],
   "source": [
    "# if False: \n",
    "#     n=10\n",
    "#     while True:\n",
    "#         print(n)\n",
    "#         time.sleep(1)\n",
    "#         n-=1"
   ]
  },
  {
   "cell_type": "markdown",
   "metadata": {
    "tags": []
   },
   "source": [
    "для того, чтобы осталась возможность завершить цикл, необходимо использовать служебное слово break. Если интерпретатор находит слово break, он завершает цикл:"
   ]
  },
  {
   "cell_type": "code",
   "execution_count": 145,
   "metadata": {},
   "outputs": [
    {
     "name": "stdout",
     "output_type": "stream",
     "text": [
      "3\n",
      "2\n",
      "1\n",
      "0\n"
     ]
    }
   ],
   "source": [
    "n=3\n",
    "while True:\n",
    "    print(n)\n",
    "    time.sleep(1)\n",
    "    if n==0:\n",
    "        break\n",
    "    n-=1"
   ]
  },
  {
   "cell_type": "markdown",
   "metadata": {},
   "source": [
    "такой способ использования цикла while достаточно распространен, потому что случае реализации стоп-условия в теле цикла, цикл выполнится хотя бы один раз.\n",
    "Иногда возникает ситуация, когда необходимо в теле цикла перескочить к следующей итерации, минуя все последующие выражения, тогда используется служебное слово continue:"
   ]
  },
  {
   "cell_type": "code",
   "execution_count": 146,
   "metadata": {},
   "outputs": [
    {
     "name": "stdout",
     "output_type": "stream",
     "text": [
      "10\n",
      "9\n",
      "8\n",
      "Done!\n"
     ]
    }
   ],
   "source": [
    "n=11\n",
    "while True:\n",
    "    n-=1\n",
    "    if n==0:\n",
    "        break\n",
    "    if n<8:\n",
    "        continue\n",
    "    time.sleep(1)\n",
    "    print(n)\n",
    "print('Done!')"
   ]
  },
  {
   "cell_type": "markdown",
   "metadata": {},
   "source": [
    "## Цикл for\n",
    "\n",
    "Иногда надо проитерировать через какой-то набор данных, через список слов, через строки файла с текстом или через строки двумерной матрицы.\n",
    "Для этого используется цикл for.\n",
    "Пример:"
   ]
  },
  {
   "cell_type": "code",
   "execution_count": 147,
   "metadata": {},
   "outputs": [
    {
     "name": "stdout",
     "output_type": "stream",
     "text": [
      "С новым Годом, Алексей!\n",
      "С новым Годом, Светлана!\n",
      "С новым Годом, Марина!\n",
      "С новым Годом, Святослав!\n"
     ]
    }
   ],
   "source": [
    "collegues = ['Алексей','Светлана','Марина','Святослав']\n",
    "for collegue in collegues:\n",
    "    print(\"С новым Годом, \"+collegue+'!')\n"
   ]
  },
  {
   "cell_type": "markdown",
   "metadata": {},
   "source": [
    "Также, иногда требуется пройтись по последовательности чисел, с предзаданным началом, концом и шагом итерации.Для этого используется генератор чисел - функция range(begin,end,step). Это функция создает генератор - специальный объект, который при запросе итератора выдает новый объект."
   ]
  },
  {
   "cell_type": "code",
   "execution_count": 148,
   "metadata": {},
   "outputs": [
    {
     "name": "stdout",
     "output_type": "stream",
     "text": [
      "0\n",
      "1\n",
      "2\n",
      "3\n",
      "4\n",
      "5\n",
      "6\n",
      "7\n",
      "8\n",
      "9\n",
      "Следующий цикл:\n",
      "2\n",
      "3\n",
      "4\n",
      "5\n",
      "6\n",
      "7\n",
      "8\n",
      "9\n",
      "Следующий цикл:\n",
      "1\n",
      "4\n",
      "7\n"
     ]
    }
   ],
   "source": [
    "for i in range(10):\n",
    "    print(i)\n",
    "print('Следующий цикл:')\n",
    "for i in range(2,10):\n",
    "    print(i)\n",
    "print('Следующий цикл:')\n",
    "for i in range(1,10,3):\n",
    "    print(i)"
   ]
  },
  {
   "cell_type": "markdown",
   "metadata": {},
   "source": [
    "# Строки\n",
    "\n",
    "Строки, представляют собой последовательность символов. Вы можете получить доступ к каждому из символов через квадратные скобки \"[]\". Нумерация в python начинается с 0, потому-что цифра в квадратных скобках обозначает смещение с первого элемента, для первого элемента это нулевое смещение."
   ]
  },
  {
   "cell_type": "code",
   "execution_count": 53,
   "metadata": {},
   "outputs": [
    {
     "data": {
      "text/plain": [
       "'т'"
      ]
     },
     "execution_count": 53,
     "metadata": {},
     "output_type": "execute_result"
    }
   ],
   "source": [
    "word = 'трактор'\n",
    "word[0]"
   ]
  },
  {
   "cell_type": "markdown",
   "metadata": {},
   "source": [
    "Вторая буква слова соответственно доступна под номером 1:"
   ]
  },
  {
   "cell_type": "code",
   "execution_count": 150,
   "metadata": {},
   "outputs": [
    {
     "data": {
      "text/plain": [
       "'р'"
      ]
     },
     "execution_count": 150,
     "metadata": {},
     "output_type": "execute_result"
    }
   ],
   "source": [
    "word[1]"
   ]
  },
  {
   "cell_type": "markdown",
   "metadata": {},
   "source": [
    "## Циклы со строками\n",
    "\n",
    "Строка в python это последовательность символов, поэтому с ней работает цикл for, например:\n"
   ]
  },
  {
   "cell_type": "code",
   "execution_count": 151,
   "metadata": {},
   "outputs": [
    {
     "name": "stdout",
     "output_type": "stream",
     "text": [
      "т\n",
      "р\n",
      "а\n",
      "к\n",
      "т\n",
      "о\n",
      "р\n",
      "Количество букв т в слове равно 2\n"
     ]
    }
   ],
   "source": [
    "count_t=0\n",
    "for char in word:\n",
    "    if char=='т':\n",
    "        count_t+=1\n",
    "    print(char)\n",
    "print(\"Количество букв т в слове равно\",count_t)"
   ]
  },
  {
   "cell_type": "markdown",
   "metadata": {},
   "source": [
    "## Слайсинг (slicing)\n",
    "\n",
    "В python есть очень удобные инструменты по доступу к частям последовательностей, один из них называется слайсинг. Для слайсинга используется конструкция [n:m]."
   ]
  },
  {
   "cell_type": "code",
   "execution_count": null,
   "metadata": {},
   "outputs": [
    {
     "name": "stdout",
     "output_type": "stream",
     "text": [
      "орный\n",
      "завод\n"
     ]
    }
   ],
   "source": [
    "word='Тракторный завод'\n",
    "print(word[0:10])\n",
    "print(word[11:16])"
   ]
  },
  {
   "cell_type": "markdown",
   "metadata": {},
   "source": [
    "кроме того, если не указывать одну из границ, то python автоматически вместо нее подставится либо конец, либо начало последовательности:"
   ]
  },
  {
   "cell_type": "code",
   "execution_count": 153,
   "metadata": {},
   "outputs": [
    {
     "name": "stdout",
     "output_type": "stream",
     "text": [
      "Тракторный\n",
      "завод\n"
     ]
    }
   ],
   "source": [
    "print(word[:10])\n",
    "print(word[11:])"
   ]
  },
  {
   "cell_type": "markdown",
   "metadata": {},
   "source": [
    "Для работы вблизи конца последовательности, используется отрицательные индексы, которые можно рассматривать как смещение от конца последовательности:"
   ]
  },
  {
   "cell_type": "code",
   "execution_count": 154,
   "metadata": {},
   "outputs": [
    {
     "name": "stdout",
     "output_type": "stream",
     "text": [
      "заво\n",
      "Тракторный за\n"
     ]
    }
   ],
   "source": [
    "print(word[11:-1])\n",
    "print(word[:-3])"
   ]
  },
  {
   "cell_type": "markdown",
   "metadata": {},
   "source": [
    "## Функции и методы\n",
    "\n",
    "Для последовательностей и строк определена функция len, которая возвращает длину строки. Сама по себе функция len вызывает метод __len__ который реализован во множестве классов-контейнеров python. Методы класса, это функции, которые определены для объекта класса. Фактически, это список функций, заботливо созданный разработчиком класса, чтобы облегчить работу с объектами. Доступ к ним осуществляется через оператор \".\", а получить список доступных методов и параметров можно через функцию dir():"
   ]
  },
  {
   "cell_type": "code",
   "execution_count": 41,
   "metadata": {},
   "outputs": [
    {
     "name": "stdout",
     "output_type": "stream",
     "text": [
      "16\n",
      "16\n",
      "Help on method-wrapper:\n",
      "\n",
      "__hash__ = <method-wrapper '__hash__' of str object>\n",
      "    Return hash(self).\n",
      "\n"
     ]
    }
   ],
   "source": [
    "print(len(word))\n",
    "print(word.__len__())\n",
    "dir(word)\n",
    "help(word.__hash__)"
   ]
  },
  {
   "cell_type": "markdown",
   "metadata": {},
   "source": [
    "Полезный способ проверить вхождение подстроки в строке, использование ключевого слова in:"
   ]
  },
  {
   "cell_type": "code",
   "execution_count": 156,
   "metadata": {},
   "outputs": [
    {
     "data": {
      "text/plain": [
       "True"
      ]
     },
     "execution_count": 156,
     "metadata": {},
     "output_type": "execute_result"
    }
   ],
   "source": [
    "\"завод\" in word"
   ]
  },
  {
   "cell_type": "markdown",
   "metadata": {},
   "source": [
    "Среди методов выделим следующие, которые используются более часто:"
   ]
  },
  {
   "cell_type": "code",
   "execution_count": 157,
   "metadata": {},
   "outputs": [
    {
     "name": "stdout",
     "output_type": "stream",
     "text": [
      "Тракторный завод\n",
      "11\n",
      "тракторный завод\n",
      "['тракторный', 'завод']\n"
     ]
    },
    {
     "data": {
      "text/plain": [
       "['spam', 'spam', 'spam']"
      ]
     },
     "execution_count": 157,
     "metadata": {},
     "output_type": "execute_result"
    }
   ],
   "source": [
    "word = 'тракторный завод'\n",
    "print(word.capitalize()) # Делает заглавной первую букву\n",
    "print(word.find('завод')) # Находит индекс первого совпадения со строкой поиска\n",
    "\n",
    "word = '    тракторный завод    '\n",
    "print(word.strip()) # Убирает пробелы с начала и конца строки\n",
    "print(word.strip().split(' ')) # split разделяет строку на подстроки, разделителем является аргументы функции\n",
    "\n",
    "s = 'spam-spam-spam'\n",
    "delimiter = '-'\n",
    "s.split(delimiter)\n"
   ]
  },
  {
   "cell_type": "markdown",
   "metadata": {},
   "source": [
    "## Форматирование строк и f-strings\n",
    "\n",
    "Для удобного форматирования строк можно использовать метод format():"
   ]
  },
  {
   "cell_type": "code",
   "execution_count": 158,
   "metadata": {},
   "outputs": [
    {
     "name": "stdout",
     "output_type": "stream",
     "text": [
      "Решение задачи 3.1413 условных единиц\n",
      "Решение задачи 3.14 условных единиц\n"
     ]
    }
   ],
   "source": [
    "print('Решение задачи {} условных единиц'.format(3.1413))\n",
    "print('Решение задачи {:.2f} условных единиц'.format(3.1413)) # :.2f это форматирование переменной, \n",
    "# более подробно по ссылке https://pythonworld.ru/osnovy/formatirovanie-strok-metod-format.html"
   ]
  },
  {
   "cell_type": "markdown",
   "metadata": {},
   "source": [
    "Можно сделать форматирование упорядоченным, то есть выставить порядок для аргументов функции format:"
   ]
  },
  {
   "cell_type": "code",
   "execution_count": 159,
   "metadata": {},
   "outputs": [
    {
     "name": "stdout",
     "output_type": "stream",
     "text": [
      "Решение задачи x=3.1415 а y=2.718\n",
      "Решение задачи x=2.718 а y=3.1415\n",
      "Решение задачи x=3.14 а y=2.7\n"
     ]
    }
   ],
   "source": [
    "print('Решение задачи x={0} а y={1}'.format(3.1415,2.718))\n",
    "print('Решение задачи x={1} а y={0}'.format(3.1415,2.718))\n",
    "print('Решение задачи x={0:.2f} а y={1:.1f}'.format(3.1415,2.718))"
   ]
  },
  {
   "cell_type": "markdown",
   "metadata": {},
   "source": [
    "При форматировании можно использовать также именнованные аргументы:"
   ]
  },
  {
   "cell_type": "code",
   "execution_count": 160,
   "metadata": {},
   "outputs": [
    {
     "name": "stdout",
     "output_type": "stream",
     "text": [
      "Решение задачи x=2.718 а y=3.1415\n",
      "Решение задачи x=2.7 а y=3.14\n"
     ]
    }
   ],
   "source": [
    "print('Решение задачи x={x} а y={y}'.format(y=3.1415,x=2.718))\n",
    "print('Решение задачи x={x:.1f} а y={y:.2f}'.format(y=3.1415,x=2.718))"
   ]
  },
  {
   "cell_type": "markdown",
   "metadata": {},
   "source": [
    "Одним из наиболее удобных способов форматирования строк, являются f-строки. Если добавить перед строкой индикатор f, то тогда внутрь фигурных строк можно вводить переменные и форматировать строки, без использования функции format:"
   ]
  },
  {
   "cell_type": "code",
   "execution_count": 161,
   "metadata": {},
   "outputs": [
    {
     "name": "stdout",
     "output_type": "stream",
     "text": [
      "Решение задачи x=3.1415 а y=2.718\n",
      "Решение задачи x=3.14 а y=2.72\n"
     ]
    }
   ],
   "source": [
    "x=3.1415\n",
    "y=2.718\n",
    "print(f'Решение задачи x={x} а y={y}')\n",
    "print(f'Решение задачи x={x:.2f} а y={y:.2f}')"
   ]
  },
  {
   "cell_type": "markdown",
   "metadata": {},
   "source": [
    "# Списки (lists)\n",
    "\n",
    "Списки, это изменяемые последовательности значений, и если в строках это были символы, то в списках это может быть любые объекты. Значения, из которых состоит список называются элементами списка. Существуют различные способы создания списков"
   ]
  },
  {
   "cell_type": "code",
   "execution_count": 162,
   "metadata": {},
   "outputs": [],
   "source": [
    "lst1 = [1,3,5,7]\n",
    "lst2 = ['один','два','три','четыре']\n",
    "lst3 = list() # пустой список\n",
    "lst4 = [] # тоже пустой список"
   ]
  },
  {
   "cell_type": "markdown",
   "metadata": {},
   "source": [
    "Список может состоять из элементов разных типов:"
   ]
  },
  {
   "cell_type": "code",
   "execution_count": 163,
   "metadata": {},
   "outputs": [],
   "source": [
    "lst5 = ['spam', 2.0, 5, [10, 20]]"
   ]
  },
  {
   "cell_type": "markdown",
   "metadata": {},
   "source": [
    "## Списки изменяемые\n",
    "\n",
    "Списки, в отличие от строк можно изменять, добавлять элементы, удалять элементы:"
   ]
  },
  {
   "cell_type": "code",
   "execution_count": 164,
   "metadata": {},
   "outputs": [
    {
     "name": "stdout",
     "output_type": "stream",
     "text": [
      "[17, 5]\n",
      "[17, 5, 51]\n",
      "[5, 51]\n",
      "51\n",
      "[5]\n"
     ]
    }
   ],
   "source": [
    "numbers = [17, 123]\n",
    "numbers[1] = 5\n",
    "print(numbers)\n",
    "numbers.append(51)\n",
    "print(numbers)\n",
    "numbers.remove(17)\n",
    "print(numbers)\n",
    "number = numbers.pop(1)\n",
    "print(number)\n",
    "print(numbers)"
   ]
  },
  {
   "cell_type": "markdown",
   "metadata": {},
   "source": [
    "Оператор in также работает для списков:"
   ]
  },
  {
   "cell_type": "code",
   "execution_count": 165,
   "metadata": {},
   "outputs": [
    {
     "name": "stdout",
     "output_type": "stream",
     "text": [
      "['Тракторный', 'завод', 'в', '2021', 'отчетном', 'году', 'произвел']\n"
     ]
    },
    {
     "data": {
      "text/plain": [
       "True"
      ]
     },
     "execution_count": 165,
     "metadata": {},
     "output_type": "execute_result"
    }
   ],
   "source": [
    "sentence = \"Тракторный завод в 2021 отчетном году произвел\"\n",
    "words=sentence.split()\n",
    "print(words)\n",
    "\"2021\" in words"
   ]
  },
  {
   "cell_type": "markdown",
   "metadata": {},
   "source": [
    "## Операторы для списков\n",
    "\n",
    "Для списков определены операторы сложения и умножения, работают они так:"
   ]
  },
  {
   "cell_type": "code",
   "execution_count": 166,
   "metadata": {},
   "outputs": [
    {
     "name": "stdout",
     "output_type": "stream",
     "text": [
      "[1, 2, 3, 4, 5, 6]\n"
     ]
    },
    {
     "data": {
      "text/plain": [
       "[0, 0, 0, 0]"
      ]
     },
     "execution_count": 166,
     "metadata": {},
     "output_type": "execute_result"
    }
   ],
   "source": [
    "a = [1, 2, 3]\n",
    "b = [4, 5, 6]\n",
    "c = a + b\n",
    "print(c)\n",
    "\n",
    "[0] * 4"
   ]
  },
  {
   "cell_type": "markdown",
   "metadata": {},
   "source": [
    "## Слайсинг для списков\n",
    "\n",
    "Слайсинг работает аналогично тому, как работает для строк:"
   ]
  },
  {
   "cell_type": "code",
   "execution_count": 167,
   "metadata": {},
   "outputs": [
    {
     "name": "stdout",
     "output_type": "stream",
     "text": [
      "['b', 'c']\n",
      "['a', 'b', 'c', 'd']\n",
      "['d', 'e', 'f']\n",
      "['c', 'd']\n"
     ]
    }
   ],
   "source": [
    "t = ['a', 'b', 'c', 'd', 'e', 'f'] \n",
    "print(t[1:3])\n",
    "\n",
    "print(t[:4])\n",
    "print(t[3:])\n",
    "\n",
    "print(t[2:-2])"
   ]
  },
  {
   "cell_type": "markdown",
   "metadata": {},
   "source": [
    "## Методы и функции для списков\n",
    "\n",
    "Для списков также определена функция len, и еще функции min,max,sum:"
   ]
  },
  {
   "cell_type": "code",
   "execution_count": 168,
   "metadata": {},
   "outputs": [
    {
     "name": "stdout",
     "output_type": "stream",
     "text": [
      "6\n",
      "74\n",
      "3\n",
      "154\n",
      "25.666666666666668\n"
     ]
    }
   ],
   "source": [
    "nums = [3, 41, 12, 9, 74, 15] \n",
    "print(len(nums)) \n",
    "print(max(nums))\n",
    "print(min(nums))\n",
    "print(sum(nums))\n",
    "print(sum(nums)/len(nums))"
   ]
  },
  {
   "cell_type": "markdown",
   "metadata": {},
   "source": [
    "Для строк определена функция join, с помощью которой можно соединять строки в списке в одну большую строку:"
   ]
  },
  {
   "cell_type": "code",
   "execution_count": 169,
   "metadata": {},
   "outputs": [
    {
     "name": "stdout",
     "output_type": "stream",
     "text": [
      "['Тракторный', 'завод', 'в', '2021', 'отчетном', 'году', 'произвел']\n",
      "Тракторный завод в 2021 отчетном году произвел\n",
      "Тракторный 99 завод 99 в 99 2021 99 отчетном 99 году 99 произвел\n"
     ]
    }
   ],
   "source": [
    "print(words)\n",
    "sentence = ' '.join(words)\n",
    "print(sentence)\n",
    "\n",
    "nonsense_sentence = ' 99 '.join(words)\n",
    "print(nonsense_sentence)"
   ]
  },
  {
   "cell_type": "markdown",
   "metadata": {},
   "source": [
    "Также у списков определен метод сортировки, который сортирует список, но ничего не возвращает. Если же, надо, чтобы была функция, которая в результате возвращает отсортированный список, но не изменяя основной список, то следует и использовать базовую функцию sorted: "
   ]
  },
  {
   "cell_type": "code",
   "execution_count": 170,
   "metadata": {},
   "outputs": [
    {
     "name": "stdout",
     "output_type": "stream",
     "text": [
      "['2021', 'Тракторный', 'в', 'году', 'завод', 'отчетном', 'произвел']\n",
      "[1, 2, 3, 4, 5, 7, 8, 9]\n",
      "[1, 2, 3, 4, 5, 7, 8, 9]\n"
     ]
    }
   ],
   "source": [
    "words.sort()\n",
    "print(words) # Список со строками тоже можно сортировать\n",
    "numbers = [1,9,8,2,4,5,3,7]\n",
    "numbers.sort() # Функция сортирует список на месте, но ничего не возвращает\n",
    "print(numbers)\n",
    "numbers = [1,9,8,2,4,5,3,7]\n",
    "print(sorted(numbers))"
   ]
  },
  {
   "cell_type": "markdown",
   "metadata": {},
   "source": [
    "# Циклы и списки\n",
    "\n",
    "Часто требуется пройтись по элементам списка и совершить какие-либо операции с ними. Для этого удобно использовать цикл for:"
   ]
  },
  {
   "cell_type": "code",
   "execution_count": 171,
   "metadata": {},
   "outputs": [
    {
     "name": "stdout",
     "output_type": "stream",
     "text": [
      "2021\n",
      "Тракторный\n",
      "в\n",
      "году\n",
      "завод\n",
      "отчетном\n",
      "произвел\n"
     ]
    }
   ],
   "source": [
    "for word in words:\n",
    "    print(word)"
   ]
  },
  {
   "cell_type": "markdown",
   "metadata": {},
   "source": [
    "Иногда требуется кроме этого отслеживать, какой индекс у текущего элемента в цикле, в таком случае воспользуемся функцией enumerate:"
   ]
  },
  {
   "cell_type": "code",
   "execution_count": 172,
   "metadata": {},
   "outputs": [
    {
     "name": "stdout",
     "output_type": "stream",
     "text": [
      "(0, '2021')\n",
      "(1, 'Тракторный')\n",
      "(2, 'в')\n",
      "(3, 'году')\n",
      "(4, 'завод')\n",
      "(5, 'отчетном')\n",
      "(6, 'произвел')\n",
      "2021\n",
      "в\n",
      "завод\n",
      "произвел\n"
     ]
    }
   ],
   "source": [
    "for obj in enumerate(words):\n",
    "    print(obj)\n",
    "\n",
    "for index,word in enumerate(words): # Код для вывода каждого второго элемента\n",
    "    if index%2==0:\n",
    "        print(word)"
   ]
  },
  {
   "cell_type": "markdown",
   "metadata": {},
   "source": [
    "## Задачи по строкам\n",
    "\n",
    "1. Сделать функцию, которая удаляет все символы из строки, заданные пользователем, и возвращает строку без этого символа.\n",
    "2. Сделать функцию, которая возвращает строку, сделанную из двух последних и двух первых символов от производной строки, если длина строки меньше 2, то вернуть пустую строку\n",
    "3. Сделать функцию, которая принимает две строки и возвращает одну строку, в которой обе строки соединены через пробел, и первые символы каждой строки поменяны местами\n",
    "Пример:  \n",
    "Аргументы : 'abc', 'xyz'  \n",
    "Результат : 'xyc abz'  \n",
    "4. Написать функцию, которая вставляет подстроку в середину строки\n",
    "5. Написать функцию, которая переворачивает строку, если ее длина делится на 4 без остатка\n",
    "6. Написать функцию, которая перед числом ставит какое-то количество нулей, доводя ее размер до определенного предзаданного значения.  \n",
    "Пример: leading_zero(input_number=15,zfill = 5)  \n",
    "Результат: 00015  \n",
    "\n"
   ]
  },
  {
   "cell_type": "markdown",
   "metadata": {},
   "source": [
    "## Задачи по спискам\n",
    "1. Дан список некоторых целых чисел, найдите значение 20 в нем и, если оно присутствует, замените его на 200. Обновите список только при первом вхождении числа 20.\n",
    "1. Дан список чисел, превратить его в список квадратов этих чисел\n",
    "1. Дан список чисел, надо найти в нем максимальное число, поделить его на длину списка и вывести это значение\n",
    "1. На входе имеем список строк разной длины. \n",
    "Необходимо написать функцию all_eq(lst), которая вернет новый список из строк одинаковой длины. \n",
    "Длину итоговой строки определяем исходя из самой большой из них. \n",
    "Если конкретная строка короче самой длинной, дополнить ее нижними подчеркиваниями с правого края до требуемого количества символов.\n",
    "Расположение элементов начального списка не менять.\n",
    "1. Дан список чисел. Определите, сколько в этом списке элементов, которые больше двух своих соседей, и выведите количество таких элементов. Крайние элементы списка никогда не учитываются, поскольку у них недостаточно соседей.\n",
    "1. Перемножить все элементы в списке и вывести результат"
   ]
  },
  {
   "cell_type": "markdown",
   "metadata": {},
   "source": [
    "# Словари (dictionaries)\n",
    "\n",
    "Словари похожи на списки, но для доступа к элементам можно использовать практически любые объекты, а не только индексы. Вы можете представлять словари, как отображение от набора индексов(которые могут быть числами, строками, и другими неизменяемыми объектами) которые называются ключами, до другого набора значений, которыми могут тоже объектами любых типов.\n",
    "\n",
    "Для примера мы сделаем словарь перевода английских слов на русские:"
   ]
  },
  {
   "cell_type": "code",
   "execution_count": 173,
   "metadata": {},
   "outputs": [
    {
     "name": "stdout",
     "output_type": "stream",
     "text": [
      "{}\n",
      "{'one': 'один', 'two': 'два', 'three': 'три'}\n",
      "{1: 'один', 2: 'два', 3: 'три'}\n",
      "{'one': 'один', 'two': 'два', 'three': 'три', 'four': 'четыре'}\n"
     ]
    }
   ],
   "source": [
    "eng2rus = {}\n",
    "eng2rus = dict() # Оба варианта эквивалентны, создает пустой dict\n",
    "\n",
    "print(eng2rus)\n",
    "\n",
    "eng2rus = {'one':'один', 'two':'два', 'three':'три'}\n",
    "eng2rus = dict(one='один',two='два',three='три')\n",
    "\n",
    "print(eng2rus)\n",
    "\n",
    "num2word = {1:'один',2:'два',3:'три'} # При использовании ключей не строк, \n",
    "                                      #возможен только такой вариант инициализации\n",
    "print(num2word)\n",
    "\n",
    "eng2rus['four'] = 'четыре'\n",
    "\n",
    "print(eng2rus)"
   ]
  },
  {
   "cell_type": "markdown",
   "metadata": {},
   "source": [
    "Порядок записи элементов в словаре не сохраняется, т.е. при одинаковом написании, вы можете получить другой порядок элементов в словаре.\n",
    "Для словаря работает функция len, а также оператор in:"
   ]
  },
  {
   "cell_type": "code",
   "execution_count": 174,
   "metadata": {},
   "outputs": [
    {
     "name": "stdout",
     "output_type": "stream",
     "text": [
      "4\n",
      "True\n",
      "dict_values(['один', 'два', 'три', 'четыре'])\n",
      "True\n"
     ]
    }
   ],
   "source": [
    "print(len(eng2rus))\n",
    "\n",
    "print('four' in eng2rus) # Поиск ведется среди ключей, а не среди значений\n",
    "print(eng2rus.values())\n",
    "print('четыре' in eng2rus.values()) # Если требуется поиск среди значений\n"
   ]
  },
  {
   "cell_type": "markdown",
   "metadata": {},
   "source": [
    "## Циклы и словари\n",
    "\n",
    "Цикл for можно использовать также и для словарей:"
   ]
  },
  {
   "cell_type": "code",
   "execution_count": 175,
   "metadata": {},
   "outputs": [
    {
     "name": "stdout",
     "output_type": "stream",
     "text": [
      "one:один\n",
      "two:два\n",
      "three:три\n",
      "four:четыре\n"
     ]
    }
   ],
   "source": [
    "for key in eng2rus:\n",
    "    print(f'{key}:{eng2rus[key]}')"
   ]
  },
  {
   "cell_type": "markdown",
   "metadata": {},
   "source": [
    "Еще один способ обхода словаря, это использование метода items, которое возвращает кортежи, в которых первый элемент это ключ, а второй это значение:"
   ]
  },
  {
   "cell_type": "code",
   "execution_count": 176,
   "metadata": {},
   "outputs": [
    {
     "name": "stdout",
     "output_type": "stream",
     "text": [
      "one:один\n",
      "two:два\n",
      "three:три\n",
      "four:четыре\n"
     ]
    }
   ],
   "source": [
    "for key,value in eng2rus.items():\n",
    "    print(f'{key}:{value}')"
   ]
  },
  {
   "cell_type": "markdown",
   "metadata": {},
   "source": [
    "## Задачи\n",
    "1. Напишите функцию to_dict(lst), которая принимает аргумент в виде списка и возвращает словарь, в котором каждый элемент списка является и ключом и значением. Предполагается, что элементы списка будут соответствовать правилам задания ключей в словарях.\n",
    "\n",
    "1. Даны два списка одинаковой длины. Необходимо создать из них словарь таким образом, чтобы элементы первого списка были ключами, а элементы второго — соответственно значениями нашего словаря.\n",
    "\n",
    "1. Данные об email-адресах студентов хранятся в словаре:\n",
    "\t\t```\n",
    "\t\temails = {'mgu.edu': ['andrei_serov', 'alexander_pushkin', 'elena_belova', 'kirill_stepanov'],\n",
    "\t\t\t\t'gmail.com': ['alena.semyonova', 'ivan.polekhin', 'marina_abrabova'],\n",
    "\t\t\t\t'msu.edu': ['sergei.zharkov', 'julia_lyubimova', 'vitaliy.smirnoff'],\n",
    "\t\t\t\t'yandex.ru': ['ekaterina_ivanova', 'glebova_nastya'],\n",
    "\t\t\t\t'harvard.edu': ['john.doe', 'mark.zuckerberg', 'helen_hunt'],\n",
    "\t\t\t\t'mail.ru': ['roman.kolosov', 'ilya_gromov', 'masha.yashkina']}\n",
    "\t\t```\n",
    "Нужно дополнить код таким образом, чтобы он вывел все адреса в алфавитном порядке и в формате имя_пользователя@домен  \n",
    "1. Иван решил создать самый большой словарь в мире. Для этого он придумал функцию biggest_dict(input_dict), которая принимает словарь и соединяет его с созданным им словарем my_dict, состоящий всего из одного элемента «first_one» со значением «we can do it». Воссоздайте эту функцию.\n",
    "1. Дана строка в виде случайной последовательности чисел от 0 до 9. \n",
    "Требуется создать словарь, который в качестве ключей будет принимать данные числа (т. е. ключи будут типом int), а в качестве значений – количество этих чисел в имеющейся последовательности. Для построения словаря создайте функцию count_it(sequence), принимающую строку из цифр. Функция должна возвратить словарь из 3-х самых часто встречаемых чисел.\n",
    "1. Создайте словарь с количеством элементов не менее 5-ти. Поменяйте местами первый и последний элемент объекта. Удалите второй элемент. Добавьте в конец ключ «new_key» со значением «new_value». Выведите на печать итоговый словарь. "
   ]
  },
  {
   "cell_type": "markdown",
   "metadata": {},
   "source": [
    "## Кортежи (tuple)\n",
    "\n",
    "Кортежи очень похожи на списки, однако отличаются тем, что кортежи неизменяемы. То есть кортеж в полном виде создается один раз, и затем используется как есть:"
   ]
  },
  {
   "cell_type": "code",
   "execution_count": 177,
   "metadata": {},
   "outputs": [
    {
     "data": {
      "text/plain": [
       "('a', 'b', 'c', 'd', 'e')"
      ]
     },
     "execution_count": 177,
     "metadata": {},
     "output_type": "execute_result"
    }
   ],
   "source": [
    " t = 'a', 'b', 'c', 'd', 'e'\n",
    " t"
   ]
  },
  {
   "cell_type": "markdown",
   "metadata": {},
   "source": [
    "Можно также добавить закрывающие скобки:"
   ]
  },
  {
   "cell_type": "code",
   "execution_count": 178,
   "metadata": {},
   "outputs": [
    {
     "name": "stdout",
     "output_type": "stream",
     "text": [
      "('a', 'b', 'c', 'd', 'e')\n",
      "('a',)\n",
      "()\n"
     ]
    }
   ],
   "source": [
    " t = ('a', 'b', 'c', 'd', 'e')\n",
    " print(t)\n",
    " t = ('a',) # В случае одного элемента\n",
    " print(t)\n",
    " t = tuple() # В случае пустого кортежа\n",
    " print(t)"
   ]
  },
  {
   "cell_type": "markdown",
   "metadata": {},
   "source": [
    "Если аргумент функции tuple, это последовательность, то тогда в результате получается кортеж элементов из этой последовательности"
   ]
  },
  {
   "cell_type": "code",
   "execution_count": 179,
   "metadata": {},
   "outputs": [
    {
     "data": {
      "text/plain": [
       "('т', 'р', 'а', 'к', 'т', 'о', 'р')"
      ]
     },
     "execution_count": 179,
     "metadata": {},
     "output_type": "execute_result"
    }
   ],
   "source": [
    "t = tuple('трактор')\n",
    "t"
   ]
  },
  {
   "cell_type": "markdown",
   "metadata": {},
   "source": [
    "Операции слайсинга и функция определения длины, минимума и максимума работают с кортежами также, как и со списками"
   ]
  },
  {
   "cell_type": "code",
   "execution_count": 180,
   "metadata": {},
   "outputs": [
    {
     "name": "stdout",
     "output_type": "stream",
     "text": [
      "('а', 'к', 'т')\n",
      "('т', 'р', 'а', 'к', 'т')\n",
      "('а', 'к', 'т', 'о', 'р')\n",
      "7\n",
      "5\n",
      "1\n",
      "15\n"
     ]
    }
   ],
   "source": [
    "print(t[2:5])\n",
    "print(t[:5])\n",
    "print(t[2:])\n",
    "\n",
    "print(len(t))\n",
    "\n",
    "t1 = (1,2,3,4,5)\n",
    "\n",
    "print(max(t1))\n",
    "print(min(t1))\n",
    "print(sum(t1))"
   ]
  },
  {
   "cell_type": "markdown",
   "metadata": {},
   "source": []
  },
  {
   "cell_type": "markdown",
   "metadata": {},
   "source": [
    "## Распаковка кортежей\n",
    "\n",
    "Одно из уникальных свойств python состоит в том, что у вас с левой стороны операции присваивания может находиться кортеж, выглядит это так:"
   ]
  },
  {
   "cell_type": "code",
   "execution_count": 181,
   "metadata": {},
   "outputs": [
    {
     "name": "stdout",
     "output_type": "stream",
     "text": [
      "тракторный\n",
      "завод\n",
      "завод\n",
      "тракторный\n"
     ]
    }
   ],
   "source": [
    "m = ['тракторный','завод']\n",
    "\n",
    "t1,t2 = m\n",
    "print(t1)\n",
    "print(t2)\n",
    "\n",
    "t1,t2=t2,t1 # В python можно поменять значения местами избегая третей переменной\n",
    "print(t1)\n",
    "print(t2)"
   ]
  },
  {
   "cell_type": "markdown",
   "metadata": {},
   "source": [
    "# Файлы\n",
    "\n",
    "Для того, чтобы полученные в результате работы программы результаты не пропали, необходимо записать их на жесткий диск компьютера в виде файлов. Для того\n",
    "чтобы открыть файл для записи, используется базовая функция open():"
   ]
  },
  {
   "cell_type": "code",
   "execution_count": 182,
   "metadata": {},
   "outputs": [
    {
     "name": "stdout",
     "output_type": "stream",
     "text": [
      "<_io.TextIOWrapper name='mbox.txt' mode='r' encoding='cp1251'>\n"
     ]
    }
   ],
   "source": [
    "try:\n",
    "    fhand = open('mbox.txt')\n",
    "except FileExistsError:\n",
    "    fhand = open('mbox.txt','w')\n",
    "print(fhand)\n",
    "fhand.close() \n"
   ]
  },
  {
   "cell_type": "markdown",
   "metadata": {},
   "source": [
    "Файл можно представить как последовательность строк, также как строку можно представить последовательностью символов. Каждая из этих строк оканчивается символом перевода строки, это символ '\\n'. \n",
    "Метод close() обязательно надо использовать после окончания работы с файлом, потому-что после открытия файл блокируется, и его нельзя перезаписать или удалить никому, кроме заблокировавшего его процесса. Чтобы не забыть закрыть файл, можно использовать служебное слово with. После завершения кода под выражением with файл закроется сам причем даже в случае возникновения ошибки. Поэтому, это приоритетный способ открытия файла:"
   ]
  },
  {
   "cell_type": "code",
   "execution_count": 183,
   "metadata": {},
   "outputs": [
    {
     "name": "stdout",
     "output_type": "stream",
     "text": [
      "<_io.TextIOWrapper name='mbox.txt' mode='r' encoding='cp1251'>\n"
     ]
    }
   ],
   "source": [
    "with open('mbox.txt') as f:\n",
    "    print(f)\n"
   ]
  },
  {
   "cell_type": "markdown",
   "metadata": {},
   "source": [
    "для разграничения доступа к данным используются используется аргумент mode, который имеет следующие настройки:\n",
    "- Read Only (‘r’) : Open text file for reading. The handle is positioned at the beginning of the file. If the file does not exists, raises the I/O error. This is also the default mode in which a file is opened.\n",
    "- Read and Write (‘r+’): Open the file for reading and writing. The handle is positioned at the beginning of the file. Raises I/O error if the file does not exist.\n",
    "- Write Only (‘w’) : Open the file for writing. For the existing files, the data is truncated and over-written. The handle is positioned at the beginning of the file. Creates the file if the file does not exist.\n",
    "- Write and Read (‘w+’) : Open the file for reading and writing. For an existing file, data is truncated and over-written. The handle is positioned at the beginning of the file.\n",
    "- Append Only (‘a’): Open the file for writing. The file is created if it does not exist. The handle is positioned at the end of the file. The data being written will be inserted at the end, after the existing data.\n",
    "- Append and Read (‘a+’) : Open the file for reading and writing. The file is created if it does not exist. The handle is positioned at the end of the file. The data being written will be inserted at the end, after the existing data.\n"
   ]
  },
  {
   "cell_type": "markdown",
   "metadata": {},
   "source": [
    "## Чтение файла\n",
    "\n",
    "Для чтения файла лучше всего использовать режим \"r\":"
   ]
  },
  {
   "cell_type": "code",
   "execution_count": 10,
   "metadata": {},
   "outputs": [
    {
     "name": "stdout",
     "output_type": "stream",
     "text": [
      "В стране Ксанад благословенной\n",
      "Дворец  построил  Кубла Хан,\n",
      "Где Альф бежит, поток священный,\n",
      "Сквозь мглу пещер гигантских, пенный,\n",
      "Впадает  в сонный океан.\n",
      "5\n"
     ]
    }
   ],
   "source": [
    "with open('ksanad.txt','r',encoding='utf-8') as f:\n",
    "    for line in f:\n",
    "        print(line.strip('\\n'))\n",
    "# Другой способ, прочитать все строки в список\n",
    "\n",
    "with open('ksanad.txt','r',encoding='utf8') as f:\n",
    "    lines = f.readlines()\n",
    "print(len(lines))\n"
   ]
  },
  {
   "cell_type": "markdown",
   "metadata": {},
   "source": [
    "## Запись файла\n",
    "\n",
    "Запись файла, процесс схожий с чтением, нужно записать в файл информацию строку за строкой:"
   ]
  },
  {
   "cell_type": "code",
   "execution_count": 185,
   "metadata": {},
   "outputs": [
    {
     "name": "stdout",
     "output_type": "stream",
     "text": [
      "7\n"
     ]
    }
   ],
   "source": [
    "words\n",
    "with open('test.txt','w') as f:\n",
    "    for word in words:\n",
    "        f.write(word + '\\n') # write  не добавляет символ перевода строки автоматически\n",
    "with open('test.txt','r') as f:\n",
    "    print(len(f.readlines()))"
   ]
  },
  {
   "cell_type": "markdown",
   "metadata": {},
   "source": [
    "## Задачи\n",
    "\n",
    "1. Напишите функцию read_last(lines, file), которая будет открывать определенный файл file и выводить на печать построчно последние строки в количестве lines (на всякий случай проверим, что задано положительное целое число). \n",
    "    Протестируем функцию на файле «article.txt» со следующим содержимым:  \n",
    "1. Требуется реализовать функцию longest_words(file), которая выводит слово, имеющее максимальную длину (или список слов, если таковых несколько).\n",
    "2. Требуется создать csv-файл «rows_300.csv» со следующими столбцами:\n",
    "    - № - номер по порядку (от 1 до 300);\n",
    "    - Секунда – текущая секунда на вашем ПК;\n",
    "    -  Микросекунда – текущая миллисекунда на часах.\n",
    "    На каждой итерации цикла искусственно приостанавливайте скрипт на 0,01 секунды.\n",
    "1. Имеется текстовый файл prices.txt с информацией о заказе из интернет магазина. В нем каждая строка с помощью символа табуляции \\t разделена на три колонки:\n",
    "    - наименование товара;\n",
    "    - количество товара (целое число);\n",
    "    - цена (в рублях) товара за 1 шт. (целое число).  \n",
    "Напишите программу, подсчитывающую общую стоимость заказа.\n",
    "1. Имеется файл file.txt с текстом на латинице. Напишите программу, которая выводит следующую статистику по тексту:\n",
    "    - количество букв латинского алфавита;\n",
    "    - число слов;\n",
    "    - число строк.\n",
    "1. Напишите программу, которая получает на вход строку с названием текстового файла, и выводит на экран содержимое этого файла, заменяя все запрещенные слова звездочками * (количество звездочек равно количеству букв в слове). Запрещенные слова, разделенные символом пробела, хранятся в текстовом файле forbidden_words.txt. Все слова в этом файле записаны в нижнем регистре. Программа должна заменить запрещенные слова, где бы они ни встречались, даже в середине другого слова. Замена производится независимо от регистра: если файл forbidden_words.txt содержит запрещенное слово exam, то слова exam, Exam, ExaM, EXAM и exAm должны быть заменены на ****.\n"
   ]
  }
 ],
 "metadata": {
  "kernelspec": {
   "display_name": "Python 3.8.8 64-bit (system)",
   "language": "python",
   "name": "python3"
  },
  "language_info": {
   "codemirror_mode": {
    "name": "ipython",
    "version": 3
   },
   "file_extension": ".py",
   "mimetype": "text/x-python",
   "name": "python",
   "nbconvert_exporter": "python",
   "pygments_lexer": "ipython3",
   "version": "3.8.8"
  },
  "vscode": {
   "interpreter": {
    "hash": "5d4293768b5140597ee8046b292ea8fa11d0b98d92239622d81bc34f410f53ec"
   }
  }
 },
 "nbformat": 4,
 "nbformat_minor": 4
}
